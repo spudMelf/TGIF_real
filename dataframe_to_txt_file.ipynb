{
 "cells": [
  {
   "cell_type": "code",
   "execution_count": 2,
   "id": "5694c759",
   "metadata": {},
   "outputs": [
    {
     "data": {
      "text/html": [
       "<div>\n",
       "<style scoped>\n",
       "    .dataframe tbody tr th:only-of-type {\n",
       "        vertical-align: middle;\n",
       "    }\n",
       "\n",
       "    .dataframe tbody tr th {\n",
       "        vertical-align: top;\n",
       "    }\n",
       "\n",
       "    .dataframe thead th {\n",
       "        text-align: right;\n",
       "    }\n",
       "</style>\n",
       "<table border=\"1\" class=\"dataframe\">\n",
       "  <thead>\n",
       "    <tr style=\"text-align: right;\">\n",
       "      <th></th>\n",
       "      <th>Unnamed: 0</th>\n",
       "      <th>labels</th>\n",
       "      <th>text</th>\n",
       "    </tr>\n",
       "  </thead>\n",
       "  <tbody>\n",
       "    <tr>\n",
       "      <th>0</th>\n",
       "      <td>0</td>\n",
       "      <td>0</td>\n",
       "      <td>parker  a bill to be entitled an act relating ...</td>\n",
       "    </tr>\n",
       "    <tr>\n",
       "      <th>1</th>\n",
       "      <td>1</td>\n",
       "      <td>0</td>\n",
       "      <td>gallego  a bill to be entitled an act relating...</td>\n",
       "    </tr>\n",
       "    <tr>\n",
       "      <th>2</th>\n",
       "      <td>2</td>\n",
       "      <td>0</td>\n",
       "      <td>thompson of harris hb a noa a bill to be ent...</td>\n",
       "    </tr>\n",
       "    <tr>\n",
       "      <th>3</th>\n",
       "      <td>3</td>\n",
       "      <td>0</td>\n",
       "      <td>bailey  a bill to be entitled an act relating ...</td>\n",
       "    </tr>\n",
       "    <tr>\n",
       "      <th>4</th>\n",
       "      <td>4</td>\n",
       "      <td>0</td>\n",
       "      <td>bucy hb a noa a bill to be entitled an act r...</td>\n",
       "    </tr>\n",
       "    <tr>\n",
       "      <th>...</th>\n",
       "      <td>...</td>\n",
       "      <td>...</td>\n",
       "      <td>...</td>\n",
       "    </tr>\n",
       "    <tr>\n",
       "      <th>44002</th>\n",
       "      <td>44002</td>\n",
       "      <td>0</td>\n",
       "      <td>slawson hb a noa a bill to be entitled an ac...</td>\n",
       "    </tr>\n",
       "    <tr>\n",
       "      <th>44003</th>\n",
       "      <td>44003</td>\n",
       "      <td>1</td>\n",
       "      <td>phillips  a bill to be entitled an act relatin...</td>\n",
       "    </tr>\n",
       "    <tr>\n",
       "      <th>44004</th>\n",
       "      <td>44004</td>\n",
       "      <td>0</td>\n",
       "      <td>madden  a bill to be entitled an act relating ...</td>\n",
       "    </tr>\n",
       "    <tr>\n",
       "      <th>44005</th>\n",
       "      <td>44005</td>\n",
       "      <td>0</td>\n",
       "      <td>pickett  a bill to be entitled an act relating...</td>\n",
       "    </tr>\n",
       "    <tr>\n",
       "      <th>44006</th>\n",
       "      <td>44006</td>\n",
       "      <td>0</td>\n",
       "      <td>neave  a bill to be entitled an act relating t...</td>\n",
       "    </tr>\n",
       "  </tbody>\n",
       "</table>\n",
       "<p>44007 rows × 3 columns</p>\n",
       "</div>"
      ],
      "text/plain": [
       "       Unnamed: 0  labels                                               text\n",
       "0               0       0  parker  a bill to be entitled an act relating ...\n",
       "1               1       0  gallego  a bill to be entitled an act relating...\n",
       "2               2       0    thompson of harris hb a noa a bill to be ent...\n",
       "3               3       0  bailey  a bill to be entitled an act relating ...\n",
       "4               4       0    bucy hb a noa a bill to be entitled an act r...\n",
       "...           ...     ...                                                ...\n",
       "44002       44002       0    slawson hb a noa a bill to be entitled an ac...\n",
       "44003       44003       1  phillips  a bill to be entitled an act relatin...\n",
       "44004       44004       0  madden  a bill to be entitled an act relating ...\n",
       "44005       44005       0  pickett  a bill to be entitled an act relating...\n",
       "44006       44006       0  neave  a bill to be entitled an act relating t...\n",
       "\n",
       "[44007 rows x 3 columns]"
      ]
     },
     "execution_count": 2,
     "metadata": {},
     "output_type": "execute_result"
    }
   ],
   "source": [
    "import pandas as pd\n",
    "corpus = pd.read_csv(\"loaded_text.csv\")\n",
    "\n",
    "corpus"
   ]
  },
  {
   "cell_type": "code",
   "execution_count": 3,
   "id": "e7690f9c",
   "metadata": {},
   "outputs": [],
   "source": [
    "import os\n",
    "root = os.getcwd()\n",
    "os.mkdir(\"text_files_utf8_3\")\n",
    "os.chdir(\"text_files_utf8_3\")\n",
    "os.mkdir(\"failed\")\n",
    "os.mkdir(\"passed\")\n",
    "os.chdir(root)"
   ]
  },
  {
   "cell_type": "code",
   "execution_count": 4,
   "id": "f31757f5",
   "metadata": {},
   "outputs": [
    {
     "data": {
      "text/plain": [
       "'C:\\\\Users\\\\Eamon\\\\TGIF_project\\\\LSTM_2'"
      ]
     },
     "execution_count": 4,
     "metadata": {},
     "output_type": "execute_result"
    }
   ],
   "source": [
    "os.getcwd()"
   ]
  },
  {
   "cell_type": "code",
   "execution_count": 5,
   "id": "3de8f5fc",
   "metadata": {},
   "outputs": [],
   "source": [
    "files = corpus['text']\n",
    "labels = corpus['labels']"
   ]
  },
  {
   "cell_type": "code",
   "execution_count": 6,
   "id": "01505611",
   "metadata": {},
   "outputs": [
    {
     "data": {
      "text/plain": [
       "array(['parker  a bill to be entitled an act relating to notice to certain persons that a child is in the managing conservatorship of the department of family and protective services be it enacted by the legislature of the state of texas subchapterb chapter262 family code is amended by adding  to read as follows notice to relatives and certain individuals investigation  when the department of family and protective services or another agency takes possession of a child under this chapterthe department shall give written notice as prescribed by this section to each of the following individuals the department is able to identify and locate each adult who is related or is alleged to be related to the child within the third degree by consanguinity or the second degree by affinity as determined under chaptergovernment code and each adult who has a long-standing and significant relationship with the child the written notice must include a statement that the child has been removed from the child ’s home and is in the temporary managing conservatorship of the department an explanation of the options available to the individual to participate in the care and placement of the child and the support of the child ’s family and a statement that some options available to the individual may be lost if the individual fails to respond to the notice in a timely manner the department is not required to provide notice to an individual if the department determines that the individual ’s history of family violence makes notification inappropriate the department shall conduct an investigation to identify and locate all individuals entitled to notice under this section the department shall complete the investigation not later than theth day after the date the child is taken into possession the department shall use due diligence in conducting the investigation under this section including interviewing each individual the department identifies and locates and the child in an age-appropriate manner about adults who may have a long-standing and significant relationship with the child subchaptera chapter263 family code is amended by adding  to read as follows notification of relative affidavit not later than theth day before the date set for a hearing under subchapterc the department shall file with the court an affidavit stating the efforts the department made to identify locate and notify the individuals described by   and the name of each individual the department identified located or notified  family code is amended by amending subsection and adding subsection to read as follows except as provided by sub subsection and  a status hearing shall be limited to matters related to the contents and execution of the service plan filed with the courtthe court shall review the service plan that the department or other agency filed under this chapterfor reasonableness accuracy and compliance with requirements of court orders and make findings as to whether a plan that has the goal of returning the child to the child ’s parents adequately ensures that reasonable efforts are made to enable the child ’s parents to provide a safe environment for the child and the child ’s parents have reviewed and understand the service plan and have been advised that unless the parents are willing and able to provide the child with a safe environment even with the assistance of a service plan within the reasonable period of time specified in the plan the parents ’ parental and custodial duties and rights may be subject to restriction or to termination under this code or the child may not be returned to the parents the court shall review the affidavit filed by the department under  and inquire into the sufficiency of the department ’s efforts to identify locate and notify  relatives and alleged relatives of the child and adults who have a long-standing and significant relationship with the child the court shall order the department to make further efforts to identify locate and notify relatives and alleged relatives of the child and adults who have a long-standing and significant relationship with the child if the court determines that the department ’s efforts have not been sufficient the changes in law made by this act apply only to a child taken into possession by the department of family and protective services or another agency on or after the effective date of this act a child taken into possession before that date is governed by the law in effect on the date the child is taken into possession and the former law is continued in effect for that purpose '],\n",
       "      dtype='<U4578')"
      ]
     },
     "execution_count": 6,
     "metadata": {},
     "output_type": "execute_result"
    }
   ],
   "source": [
    "import numpy as np\n",
    "np.array([files[0]]).flatten()"
   ]
  },
  {
   "cell_type": "code",
   "execution_count": 8,
   "id": "5aea33b4",
   "metadata": {},
   "outputs": [
    {
     "ename": "TypeError",
     "evalue": "write() argument must be str, not numpy.ndarray",
     "output_type": "error",
     "traceback": [
      "\u001b[1;31m---------------------------------------------------------------------------\u001b[0m",
      "\u001b[1;31mTypeError\u001b[0m                                 Traceback (most recent call last)",
      "Cell \u001b[1;32mIn [8], line 12\u001b[0m\n\u001b[0;32m     10\u001b[0m     filename \u001b[38;5;241m=\u001b[39m \u001b[38;5;28mstr\u001b[39m(index) \u001b[38;5;241m+\u001b[39m \u001b[38;5;124m\"\u001b[39m\u001b[38;5;124m.txt\u001b[39m\u001b[38;5;124m\"\u001b[39m\n\u001b[0;32m     11\u001b[0m     \u001b[38;5;28;01mwith\u001b[39;00m io\u001b[38;5;241m.\u001b[39mopen(filename,\u001b[38;5;124m'\u001b[39m\u001b[38;5;124mw\u001b[39m\u001b[38;5;124m'\u001b[39m,encoding\u001b[38;5;241m=\u001b[39m\u001b[38;5;124m'\u001b[39m\u001b[38;5;124mutf8\u001b[39m\u001b[38;5;124m'\u001b[39m) \u001b[38;5;28;01mas\u001b[39;00m f:\n\u001b[1;32m---> 12\u001b[0m         \u001b[43mf\u001b[49m\u001b[38;5;241;43m.\u001b[39;49m\u001b[43mwrite\u001b[49m\u001b[43m(\u001b[49m\u001b[43mtext\u001b[49m\u001b[43m)\u001b[49m\n\u001b[0;32m     13\u001b[0m     f\u001b[38;5;241m.\u001b[39mclose()\n\u001b[0;32m     14\u001b[0m \u001b[38;5;28;01melif\u001b[39;00m labels[index] \u001b[38;5;241m==\u001b[39m \u001b[38;5;241m1\u001b[39m:\n",
      "\u001b[1;31mTypeError\u001b[0m: write() argument must be str, not numpy.ndarray"
     ]
    }
   ],
   "source": [
    "import io\n",
    "file_dir = os.path.join(root, 'text_files_utf8_3')\n",
    "passed_dir = os.path.join(file_dir, \"passed\")\n",
    "failed_dir = os.path.join(file_dir, \"failed\")\n",
    "index = 0\n",
    "for file in files:\n",
    "    text = np.array([file]).flatten()\n",
    "    if labels[index] == 0:\n",
    "        os.chdir(failed_dir)\n",
    "        filename = str(index) + \".txt\"\n",
    "        with io.open(filename,'w',encoding='utf8') as f:\n",
    "            f.write(text)\n",
    "        f.close()\n",
    "    elif labels[index] == 1:\n",
    "        os.chdir(passed_dir)\n",
    "        filename = str(index) + \".txt\"\n",
    "        with io.open(filename,'w',encoding='utf8') as f:\n",
    "            f.write(text)\n",
    "        f.close()\n",
    "    else:\n",
    "        print(\"Could not capture file \" + str(index))\n",
    "    index += 1"
   ]
  },
  {
   "cell_type": "code",
   "execution_count": null,
   "id": "5fc65733",
   "metadata": {},
   "outputs": [],
   "source": []
  }
 ],
 "metadata": {
  "kernelspec": {
   "display_name": "Python 3 (ipykernel)",
   "language": "python",
   "name": "python3"
  },
  "language_info": {
   "codemirror_mode": {
    "name": "ipython",
    "version": 3
   },
   "file_extension": ".py",
   "mimetype": "text/x-python",
   "name": "python",
   "nbconvert_exporter": "python",
   "pygments_lexer": "ipython3",
   "version": "3.10.1"
  }
 },
 "nbformat": 4,
 "nbformat_minor": 5
}
