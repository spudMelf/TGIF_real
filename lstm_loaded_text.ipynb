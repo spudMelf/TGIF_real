{
 "cells": [
  {
   "cell_type": "code",
   "execution_count": 1,
   "id": "b6198acd",
   "metadata": {
    "scrolled": true
   },
   "outputs": [
    {
     "name": "stdout",
     "output_type": "stream",
     "text": [
      "2.10.0\n"
     ]
    }
   ],
   "source": [
    "import tensorflow as tf\n",
    "print(tf.__version__)"
   ]
  },
  {
   "cell_type": "code",
   "execution_count": 2,
   "id": "e9a6d9bd",
   "metadata": {},
   "outputs": [],
   "source": [
    "import collections\n",
    "import pathlib\n",
    "\n",
    "import tensorflow as tf\n",
    "\n",
    "from tensorflow.keras import layers\n",
    "from tensorflow.keras import losses\n",
    "from tensorflow.keras import utils\n",
    "from tensorflow.keras.layers import TextVectorization\n",
    "\n",
    "import tensorflow_datasets as tfds\n",
    "import tensorflow_text as tf_text"
   ]
  },
  {
   "cell_type": "code",
   "execution_count": 3,
   "id": "bacb4e8a",
   "metadata": {},
   "outputs": [],
   "source": [
    "import matplotlib.pyplot as plt\n",
    "\n",
    "\n",
    "def plot_graphs(history, metric):\n",
    "    plt.plot(history.history[metric])\n",
    "    plt.plot(history.history['val_'+metric], '')\n",
    "    plt.xlabel(\"Epochs\")\n",
    "    plt.ylabel(metric)\n",
    "    plt.legend([metric, 'val_'+metric])"
   ]
  },
  {
   "cell_type": "code",
   "execution_count": 4,
   "id": "0e358426",
   "metadata": {},
   "outputs": [
    {
     "name": "stdout",
     "output_type": "stream",
     "text": [
      "Found 44007 files belonging to 2 classes.\n",
      "Using 35206 files for training.\n"
     ]
    }
   ],
   "source": [
    "batch_size = 32\n",
    "seed = 42\n",
    "\n",
    "train_dir = \"text_files_utf8_2\"\n",
    "# create a training dataset\n",
    "raw_train_ds = utils.text_dataset_from_directory(\n",
    "    train_dir,\n",
    "    batch_size=batch_size,\n",
    "    validation_split=0.2,\n",
    "    subset='training',\n",
    "    seed=seed)"
   ]
  },
  {
   "cell_type": "code",
   "execution_count": 88,
   "id": "11114dd1",
   "metadata": {},
   "outputs": [
    {
     "name": "stdout",
     "output_type": "stream",
     "text": [
      "tf.Tensor([32], shape=(1,), dtype=int32)\n",
      "tf.Tensor(1, shape=(), dtype=int32)\n",
      "tf.Tensor([32], shape=(1,), dtype=int32)\n",
      "tf.Tensor(1, shape=(), dtype=int32)\n",
      "tf.Tensor([32], shape=(1,), dtype=int32)\n",
      "tf.Tensor(1, shape=(), dtype=int32)\n",
      "tf.Tensor([32], shape=(1,), dtype=int32)\n",
      "tf.Tensor(1, shape=(), dtype=int32)\n",
      "tf.Tensor([32], shape=(1,), dtype=int32)\n",
      "tf.Tensor(1, shape=(), dtype=int32)\n",
      "tf.Tensor([32], shape=(1,), dtype=int32)\n",
      "tf.Tensor(1, shape=(), dtype=int32)\n",
      "tf.Tensor([32], shape=(1,), dtype=int32)\n",
      "tf.Tensor(1, shape=(), dtype=int32)\n",
      "tf.Tensor([32], shape=(1,), dtype=int32)\n",
      "tf.Tensor(1, shape=(), dtype=int32)\n",
      "tf.Tensor([32], shape=(1,), dtype=int32)\n",
      "tf.Tensor(1, shape=(), dtype=int32)\n",
      "tf.Tensor([32], shape=(1,), dtype=int32)\n",
      "tf.Tensor(1, shape=(), dtype=int32)\n"
     ]
    },
    {
     "ename": "KeyboardInterrupt",
     "evalue": "",
     "output_type": "error",
     "traceback": [
      "\u001b[1;31m---------------------------------------------------------------------------\u001b[0m",
      "\u001b[1;31mKeyboardInterrupt\u001b[0m                         Traceback (most recent call last)",
      "Cell \u001b[1;32mIn [88], line 2\u001b[0m\n\u001b[0;32m      1\u001b[0m index \u001b[38;5;241m=\u001b[39m \u001b[38;5;241m0\u001b[39m\n\u001b[1;32m----> 2\u001b[0m \u001b[38;5;28;01mfor\u001b[39;00m element, _ \u001b[38;5;129;01min\u001b[39;00m raw_train_ds:\n\u001b[0;32m      3\u001b[0m     \u001b[38;5;28;01mif\u001b[39;00m(index \u001b[38;5;241m<\u001b[39m \u001b[38;5;241m10\u001b[39m):\n\u001b[0;32m      4\u001b[0m         \u001b[38;5;28mprint\u001b[39m(tf\u001b[38;5;241m.\u001b[39mshape(element))\n",
      "File \u001b[1;32m~\\AppData\\Roaming\\Python\\Python310\\site-packages\\tensorflow\\python\\data\\ops\\iterator_ops.py:766\u001b[0m, in \u001b[0;36mOwnedIterator.__next__\u001b[1;34m(self)\u001b[0m\n\u001b[0;32m    764\u001b[0m \u001b[38;5;28;01mdef\u001b[39;00m \u001b[38;5;21m__next__\u001b[39m(\u001b[38;5;28mself\u001b[39m):\n\u001b[0;32m    765\u001b[0m   \u001b[38;5;28;01mtry\u001b[39;00m:\n\u001b[1;32m--> 766\u001b[0m     \u001b[38;5;28;01mreturn\u001b[39;00m \u001b[38;5;28;43mself\u001b[39;49m\u001b[38;5;241;43m.\u001b[39;49m\u001b[43m_next_internal\u001b[49m\u001b[43m(\u001b[49m\u001b[43m)\u001b[49m\n\u001b[0;32m    767\u001b[0m   \u001b[38;5;28;01mexcept\u001b[39;00m errors\u001b[38;5;241m.\u001b[39mOutOfRangeError:\n\u001b[0;32m    768\u001b[0m     \u001b[38;5;28;01mraise\u001b[39;00m \u001b[38;5;167;01mStopIteration\u001b[39;00m\n",
      "File \u001b[1;32m~\\AppData\\Roaming\\Python\\Python310\\site-packages\\tensorflow\\python\\data\\ops\\iterator_ops.py:749\u001b[0m, in \u001b[0;36mOwnedIterator._next_internal\u001b[1;34m(self)\u001b[0m\n\u001b[0;32m    746\u001b[0m \u001b[38;5;66;03m# TODO(b/77291417): This runs in sync mode as iterators use an error status\u001b[39;00m\n\u001b[0;32m    747\u001b[0m \u001b[38;5;66;03m# to communicate that there is no more data to iterate over.\u001b[39;00m\n\u001b[0;32m    748\u001b[0m \u001b[38;5;28;01mwith\u001b[39;00m context\u001b[38;5;241m.\u001b[39mexecution_mode(context\u001b[38;5;241m.\u001b[39mSYNC):\n\u001b[1;32m--> 749\u001b[0m   ret \u001b[38;5;241m=\u001b[39m \u001b[43mgen_dataset_ops\u001b[49m\u001b[38;5;241;43m.\u001b[39;49m\u001b[43miterator_get_next\u001b[49m\u001b[43m(\u001b[49m\n\u001b[0;32m    750\u001b[0m \u001b[43m      \u001b[49m\u001b[38;5;28;43mself\u001b[39;49m\u001b[38;5;241;43m.\u001b[39;49m\u001b[43m_iterator_resource\u001b[49m\u001b[43m,\u001b[49m\n\u001b[0;32m    751\u001b[0m \u001b[43m      \u001b[49m\u001b[43moutput_types\u001b[49m\u001b[38;5;241;43m=\u001b[39;49m\u001b[38;5;28;43mself\u001b[39;49m\u001b[38;5;241;43m.\u001b[39;49m\u001b[43m_flat_output_types\u001b[49m\u001b[43m,\u001b[49m\n\u001b[0;32m    752\u001b[0m \u001b[43m      \u001b[49m\u001b[43moutput_shapes\u001b[49m\u001b[38;5;241;43m=\u001b[39;49m\u001b[38;5;28;43mself\u001b[39;49m\u001b[38;5;241;43m.\u001b[39;49m\u001b[43m_flat_output_shapes\u001b[49m\u001b[43m)\u001b[49m\n\u001b[0;32m    754\u001b[0m   \u001b[38;5;28;01mtry\u001b[39;00m:\n\u001b[0;32m    755\u001b[0m     \u001b[38;5;66;03m# Fast path for the case `self._structure` is not a nested structure.\u001b[39;00m\n\u001b[0;32m    756\u001b[0m     \u001b[38;5;28;01mreturn\u001b[39;00m \u001b[38;5;28mself\u001b[39m\u001b[38;5;241m.\u001b[39m_element_spec\u001b[38;5;241m.\u001b[39m_from_compatible_tensor_list(ret)  \u001b[38;5;66;03m# pylint: disable=protected-access\u001b[39;00m\n",
      "File \u001b[1;32m~\\AppData\\Roaming\\Python\\Python310\\site-packages\\tensorflow\\python\\ops\\gen_dataset_ops.py:3011\u001b[0m, in \u001b[0;36miterator_get_next\u001b[1;34m(iterator, output_types, output_shapes, name)\u001b[0m\n\u001b[0;32m   3009\u001b[0m \u001b[38;5;28;01mif\u001b[39;00m tld\u001b[38;5;241m.\u001b[39mis_eager:\n\u001b[0;32m   3010\u001b[0m   \u001b[38;5;28;01mtry\u001b[39;00m:\n\u001b[1;32m-> 3011\u001b[0m     _result \u001b[38;5;241m=\u001b[39m \u001b[43mpywrap_tfe\u001b[49m\u001b[38;5;241;43m.\u001b[39;49m\u001b[43mTFE_Py_FastPathExecute\u001b[49m\u001b[43m(\u001b[49m\n\u001b[0;32m   3012\u001b[0m \u001b[43m      \u001b[49m\u001b[43m_ctx\u001b[49m\u001b[43m,\u001b[49m\u001b[43m \u001b[49m\u001b[38;5;124;43m\"\u001b[39;49m\u001b[38;5;124;43mIteratorGetNext\u001b[39;49m\u001b[38;5;124;43m\"\u001b[39;49m\u001b[43m,\u001b[49m\u001b[43m \u001b[49m\u001b[43mname\u001b[49m\u001b[43m,\u001b[49m\u001b[43m \u001b[49m\u001b[43miterator\u001b[49m\u001b[43m,\u001b[49m\u001b[43m \u001b[49m\u001b[38;5;124;43m\"\u001b[39;49m\u001b[38;5;124;43moutput_types\u001b[39;49m\u001b[38;5;124;43m\"\u001b[39;49m\u001b[43m,\u001b[49m\u001b[43m \u001b[49m\u001b[43moutput_types\u001b[49m\u001b[43m,\u001b[49m\n\u001b[0;32m   3013\u001b[0m \u001b[43m      \u001b[49m\u001b[38;5;124;43m\"\u001b[39;49m\u001b[38;5;124;43moutput_shapes\u001b[39;49m\u001b[38;5;124;43m\"\u001b[39;49m\u001b[43m,\u001b[49m\u001b[43m \u001b[49m\u001b[43moutput_shapes\u001b[49m\u001b[43m)\u001b[49m\n\u001b[0;32m   3014\u001b[0m     \u001b[38;5;28;01mreturn\u001b[39;00m _result\n\u001b[0;32m   3015\u001b[0m   \u001b[38;5;28;01mexcept\u001b[39;00m _core\u001b[38;5;241m.\u001b[39m_NotOkStatusException \u001b[38;5;28;01mas\u001b[39;00m e:\n",
      "\u001b[1;31mKeyboardInterrupt\u001b[0m: "
     ]
    }
   ],
   "source": [
    "def flatten(t):\n",
    "    t = t.reshape(1, -1)\n",
    "    t = t.squeeze()\n",
    "    return t\n",
    "\n",
    "index = 0\n",
    "for element, _ in raw_train_ds:\n",
    "    flatten(element)"
   ]
  },
  {
   "cell_type": "code",
   "execution_count": 5,
   "id": "fd120775",
   "metadata": {},
   "outputs": [
    {
     "name": "stdout",
     "output_type": "stream",
     "text": [
      "Bill:  b'  capriglione hb a noa a bill to be entitled an act relating to maintenance and production of electronic public information under the public information law be it enacted by the legislature of the state of texas section a(a-2) government code is amended to read as follows (a-2)  the definition of \"public information\" provided by subsection applies to and includes   any electronic communication created transmitted received or maintained on any device if the communication is in connection with the transaction of official business and   data dictionaries and other indicia of the type or category of information held in each field of a database section a  subchaptere chapter552 government code is amended by adding  to read as follows sec a  electronic public information  in this section\"electronic public information\" means public information that is produced and maintained in an electronic spreadsheet or database that is searchable or sortable   a governmental body \\xe2\\x80\\x99 s use of an electronic recordkeeping system may not erode the public \\xe2\\x80\\x99 s right of access to public information under this chapterthe contents of electronic public information including information covered by section hb a noa(a-2) is significant and not merely used as a tool for the maintenance manipulation or protection of property   if a request for public information applies to electronic public information and the requestor requests the electronic public information in a searchable or sortable format the governmental body shall provide an electronic copy of the requested electronic public information in the searchable or sortable format requested using computer software the governmental body has in its possession if the requestor prefers the governmental body shall provide a copy of electronic public information in the form of a paper printout   a governmental body may not refuse to provide a copy of electronic public information on the grounds that exporting the information or redacting excepted information will require inputting range search filter report parameters or similar commands or instructions into the governmental body \\xe2\\x80\\x99 s computer system if the commands or instructions can be executed with computer software used by the governmental body in the ordinary course of business to access support or otherwise manage the information   a requestor may request that a copy of electronic public information be provided in the format in which the information is maintained by the governmental body or in a standard export format such as a flat file electronic american standard code for information interchange  if the governmental body \\xe2\\x80\\x99 s computer programs support exporting the information in that format the governmental body shall provide the copy in the requested format or in another format acceptable to the requestor the governmental body shall provide the copy on suitable electronic hb a noa media   if electronic public information is maintained by a governmental body in a format that is   searchable but not sortable the governmental body shall provide an electronic copy of the information in a searchable format that complies with this section or   sortable the governmental body shall provide an electronic copy of the information in a sortable format that complies with this section a governmental body shall use reasonable efforts to ensure that a contract entered into by the governmental body for the creation and maintenance of electronic public information does not impair the public \\xe2\\x80\\x99 s ability to inspect or copy the information make the information more difficult for the public to inspect or or copy than records maintained by the governmental body   this section applies to public information for which a third party is the custodian for the governmental body   this section does not affect the applicability electronic public information of a confidentiality provision to or other exception from required disclosure   subchapterf applies to an electronic copy or paper printout of electronic public information section a  the changes in law made by this act apply only to a request for public information received by a governmental body on or after the effective date of this act a request received before that date is governed by the law in effect when the request was received and the former law is continued in effect for that purpose section a  '\n",
      "Label: 0\n",
      "Bill:  b'button  a bill to be entitled an act relating to requiring governmental entities to participate in the federal electronic verification of employment authorization program or e-verify be it enacted by the legislature of the state of texas subtitle a title government code is amended by adding chapter619 to read as follows chapter619 verification of employee information definitions in this chapter\"e-verify program\" means the electronic verification of employment authorization program of the federal illegal immigration reform and immigrant responsibility act of (pub l no104-208 reprinted in note usc section1324a) operated by the united states department of homeland security or a successor employment authorization program designated by the united states department of homeland security or other federal agency authorized to verify the employment authorization status of newly hired employees under the federal immigration reform and control act of (8 usc section1101 et seq) \"governmental entity\" means the state or a political subdivision of the state including a municipality a county or any kind of district verification a governmental entity shall  mtb-d9 register and participate in the e-verify program to verify information of all new employees rules the texas workforce commission shall adopt rules and prescribe forms to implement this chaptertermination of employment an employee of a governmental entity who is responsible for verifying information of new employees of the governmental entity as required by  is subject to immediate termination of employment if the employee fails to comply with that section10 '\n",
      "Label: 0\n",
      "Bill:  b'canales  a bill to be entitled an act relating to certain enrollment status information included in the public education information management system be it enacted by the legislature of the state of texas  education code is amended by adding sub  and  to read as follows the commissioner shall adopt rules to ensure that the public education information management system includes accurate information concerning the enrollment status of each student who enrolls in grade level six or above in a public school including an open-enrollment charter school through the time the student moves out of this state dies earns a high school diploma or high school equivalency certificate or is considered a dropout if a student who is considered a dropout reenrolls the public education information management system must provide information about that student \\xe2\\x80\\x99s enrollment status the public education information management system must provide information about each student \\xe2\\x80\\x99s current status including whether the student is enrolled in a public school is enrolled in a private school has moved out of this state has died has earned a high school diploma or high school equivalency certificate or  slo-d  is a dropout in this section\"dropout\" means a student who does not hold a high school diploma or a high school equivalency certificate and is absent without excuse from the school at which the student is enrolled for a period of at least consecutive school days and whose attendance at another school including a private school cannot be verified not later than january the commissioner of education shall adopt rules as required by  education code as added by this act the public education information management system must provide the information required by  not later than october '\n",
      "Label: 0\n",
      "Bill:  b'collier  a bill to be entitled an act relating to the collection of consumer debt by debt buyers be it enacted by the legislature of the state of texas this act shall be known as the fair consumer debt collection act subchapterd chapter392 finance code is amended by adding  to read as follows collection of certain consumer debt by debt buyers  in this section\"charged-off debt\" means a consumer debt that a creditor has determined to be a loss or expense to the creditor instead of an asset \"debt buyer\" means a person who purchases or otherwise acquires a consumer debt from a creditor or other subsequent owner of the consumer debt regardless of whether the person collects the consumer debt hires a third party to collect the consumer debt or hires an attorney to pursue collection litigation in connection with the consumer debt the term does not include a person who acquires a charged-off debt incidental to the purchase of a portfolio that predominantly consists of consumer debt that has not been charged off or a check services company that acquires the right to collect on a paper or electronic negotiable instrument including an automated clearing house  authorization to debit an account that has not been processed unless otherwise expressly provided this section prevails to the extent of any conflict between this section and any other law of this state a debt buyer may not directly or indirectly commence an action against or initiate arbitration with a consumer to collect a consumer debt later than the earlier of the fourth anniversary of the date of the consumer \\xe2\\x80\\x99s last activity on the consumer debt or the expiration date of any otherwise applicable statute of limitations if an action to collect a consumer debt is barred under subsection the cause of action is not revived by a payment of the consumer debt an oral or written reaffirmation of the consumer debt or any other activity on the consumer debt if a debt buyer is engaged in debt collection for a consumer debt for which an action to collect the debt is barred under subsection the debt buyer or a debt collector acting on behalf of the debt buyer shall provide the following notice in the initial written communication with the consumer relating to the debt collection if the reporting period for including the consumer debt in a consumer report prepared by a consumer reporting agency has not expired under section605 fair credit reporting act (usc section1681c) and the debt buyer furnishes to a consumer reporting agency information regarding the consumer debt \"the law  limits how long you can be sued on a debt because of the age of your debt we will not sue you for it if you do not pay the debt insert name of debt buyer may continue to report it to credit reporting agencies as unpaid for as long as the law permits this reporting this notice is required by law\" if the reporting period for including the consumer debt in a consumer report prepared by a consumer reporting agency has not expired under section605 fair credit reporting act (15 usc section1681c) but the debt buyer does not furnish to a consumer reporting agency information regarding the consumer debt \"the law limits how long you can be sued on a debt because of the age of your debt we will not sue you for it this notice is required by law\" or if the reporting period for including the consumer debt in a consumer report prepared by a consumer reporting agency has expired under section605 fair credit reporting act (15 usc section1681c) \"the law limits how long you can be sued on a debt because of the age of your debt we will not sue you for it and we will not report it to any credit reporting agency this notice is required by law\" a notice required under subsection must be in at least-point type that is boldfaced capitalized or underlined or otherwise conspicuously set out from the surrounding written material  finance code is amended by amending subsection and adding subsection to read as follows except as provided by subsection a a person commits an offense if the person violates this chapterthis section does not apply to a violation of section392307  finance code is amended to read as follows a violation of this chapteris a deceptive trade practice under subchaptere chapter17 business & commerce code and is actionable under that subchapterthis subsection does not apply to a violation of  the changes in law made by this act apply only to an action of a debt buyer to collect a consumer debt if the action occurs on or after the effective date of this act an action of a debt buyer to collect a consumer debt that occurs before the effective date of this act is governed by the law in effect immediately before that date and the former law is continued in effect for that purpose '\n",
      "Label: 1\n",
      "Bill:  b'schaefer  a bill to be entitled an act relating to the possession of certain weapons by a security guard on the premises of a school or educational institution be it enacted by the legislature of the state of texas  penal code is amended by adding subsection to read as follows it is an exception to the application of subsection that the actor possessed a firearm or club while traveling to or from the actor \\xe2\\x80\\x99s place of assignment or in the actual discharge of the actor \\xe2\\x80\\x99s duties as a security officer if the actor holds a security officer commission issued by the texas private security board the actor is wearing a distinctive uniform and the firearm or club is in plain view the change in law made by this act applies only to an offense committed on or after the effective date of this act an offense committed before the effective date of this act is governed by the law in effect on the date the offense was committed and the former law is continued in effect for that purpose for purposes of this section an offense was committed before the effective date of this act if any element of the offense occurred before that date '\n",
      "Label: 0\n",
      "Bill:  b'coleman  a bill to be entitled an act relating to the purchase of fair trade certified products by a state agency be it enacted by the legislature of the state of texas subchapterh chapter2155 government code is amended by adding  to read as follows fair trade certified products  the comptroller shall adopt rules to require a state agency to purchase products that are fair trade certified to the extent those products are available this section applies to a purchase without regard to the source of funds the agency will use for the purchase including a purchase that is made by a state agency that is otherwise exempt from the comptroller \\xe2\\x80\\x99s purchasing authority or made under delegated purchasing authority under  not later than december the comptroller of public accounts shall adopt rules under  government code as added by this act '\n",
      "Label: 0\n",
      "Bill:  b'rose  a bill to be entitled an act relating to the establishment by certain counties and hospital districts of disease control pilot programs to reduce the risk of certain infectious and communicable diseases authorizing fees be it enacted by the legislature of the state of texas the legislature finds that because drug abuse has been a tragedy for many texas families it is imperative for individuals addicted to drugs to receive education about and treatment for addiction cooperation with community-based and faith-based organizations creates a network of support for texas families and the opportunity to intervene in drug addiction members of community-based and faith-based organizations have a strong desire to compassionately work to preserve lives and offer help to those stricken with disease and drug addiction allowing for the operation of disease control pilot programs will reduce the transmission of bloodborne diseases including hiv/aids hepatitis b and hepatitis c and provide clients with referrals to appropriate health and social services a pilot program created under this act may provide necessary access to primary health care ensure safe and sterile disposal of used syringes and needles and protect the public health in addition pilot program goals may include reduced rates of intravenous drug use and a reduced number of injuries to innocent victims first responders and law enforcement caused by needle sticks from improperly disposed needles additionally it is the intent of the legislature for the pilot program to increase access to drug treatment centers increase the likelihood of successful treatments for addiction and protect the public health and safety  government code is amended to read as follows pilot program to prevent the spread of certain infectious and or communicable diseases the commission may provide guidance to the counties and hospital districts in those counties that establish local health authority of bexar county in establishing a pilot program under subchapterk chapterhealth and safety code funded by the county to prevent the spread of hiv hepatitis b hepatitis c and other infectious and communicable diseases the program may include a disease control program that provides for the anonymous exchange of used hypodermic needles and syringes chapter81 health and safety code is amended by adding subchapterk to read as follows subchapterk pilot program to reduce risk of certain infectious and communicable diseases applicability of subchapterthis subchapter22 applies only to bexar dallas harris and travis counties and hospital districts in those counties disease control pilot program  a county or hospital district may establish a disease control pilot program under this subchapterto prevent the spread of hiv hepatitis b hepatitis c and other infectious and communicable diseases the  pilot program may include disease control outreach programs that provide for the anonymous exchange of used hypodermic needles and syringes for an equal number of new hypodermic needles and syringes offer education on the transmission and prevention of infectious and communicable diseases including hiv hepatitis b and hepatitis c and assist program participants in obtaining health care and other physical and mental health-related services including substance abuse treatment services and bloodborne disease testing a county or hospital district may register an organization to operate the disease control pilot program and distribute hypodermic needles and syringes to control the spread of certain bloodborne communicable diseases the county or hospital district may charge a registration fee in an amount reasonable and necessary to cover the costs of registration oversight including coordination with law enforcement personnel a registered organization may charge a participant in the program a fee for each hypodermic needle or syringe used in the program not to exceed percent of the actual cost to the organization of the hypodermic needle or syringe a registered organization shall annually provide to the department and the county or hospital district with which the organization is registered information on the effectiveness of the program the program \\xe2\\x80\\x99s impact on reducing the spread of  infectious and communicable diseases including hiv hepatitis b and hepatitis c and the program \\xe2\\x80\\x99s effect on injected drug use in the county or hospital district distribution of needles and syringes to pilot program a person licensed as a wholesale drug distributor or device distributor under chapter431 may distribute hypodermic needles and syringes to a disease control pilot program authorized by this subchapter10 handling of needles and syringes a registered organization shall store hypodermic needles and syringes in a proper and secure manner and allow only authorized employees or volunteers of the organization \\xe2\\x80\\x99s disease control pilot program to access the hypodermic needles and syringes may include hypodermic needles and syringes in packaged safe kits made available to program clients through the program may provide hypodermic needles and syringes and safe kits to program clients only through an authorized employee or volunteer of the program and shall store and dispose of used hypodermic needles and syringes in accordance with applicable state laws and administrative rules governing the safe and proper disposal of medical waste funding except to the extent specifically prohibited by law a registered organization operating a disease control pilot program may solicit or accept gifts grants or donations to fund a disease control pilot program under section81502 expiration this subchapterexpires september  health and safety code is amended by adding sub   and  to read as follows sub  and  do not apply to a person who dispenses or delivers a hypodermic needle or syringe for a medical purpose for the purposes of this subsection\"medical purpose\" includes the exchange of a hypodermic needle or syringe for a used hypodermic needle or syringe in a disease control pilot program described by subchapterk chaptersub  and  do not apply to a person who manufactures hypodermic needles or syringes for delivery to a disease control pilot program described by subchapterk chapter18 sub  and  do not apply to a person who is an employee volunteer duly authorized agent or program client of a disease control pilot program described by subchapterk chapterand uses possesses or delivers a hypodermic needle or syringe as part of the program the change to  health and safety code made by this act applies only to an offense committed on or after the effective date of this act an offense committed before the effective date of this act is governed by the law in effect when the offense was committed and the former law is continued in effect for that purpose for purposes of this section an offense is committed before the effective date of this act if any element of the offense occurs before the effective date '\n",
      "Label: 0\n",
      "Bill:  b'branch  a bill to be entitled an act relating to a limitation on the amount of school property tax revenue that is subject to recapture under the public school finance system be it enacted by the legislature of the state of texas this act may be cited as the robin hood relief act subchapterd chapter41 education code is amended by adding  to read as follows limitation on total cost notwithstanding any other provision of this chaptera school district that executes an agreement to purchase all attendance credits necessary to reduce the district \\xe2\\x80\\x99s wealth per student to the equalized wealth level may not be required to pay a total amount for attendance credits that exceeds the amount equal to percent of the amount of maintenance and operations tax revenue collected by the district for the tax year that ends during the school year for which the agreement is executed '\n",
      "Label: 0\n",
      "Bill:  b'  middleton hb a noa a bill to be entitled an act relating to prohibiting a licensing authority from taking disciplinary action against certain license holders for violating an emergency management plan or a rule order or ordinance issued under the plan be it enacted by the legislature of the state of texas section asubchapterh chapter418 government code is amended by adding  to reads as follows sec a  action against license holder prohibited  in this section\"license\" means a license registration certificate permit or other authorization issued by a licensing authority that a person must obtain to practice or engage in a particular business occupation or profession   \"licensing authority\" means a department commission board office or other agency of the state that issues a license   a licensing authority may not revoke suspend or refuse to renew a license reprimand a license holder impose an administrative penalty on a license holder or take any other disciplinary action against a license holder based on the license holder \\xe2\\x80\\x99 s failure to comply with a state local or interjurisdictional emergency management plan or with a rule order or ordinance adopted under the plan  mck-d hb a noa section a  '\n",
      "Label: 0\n",
      "Bill:  b'swanson  a bill to be entitled an act relating to the abolition of ad valorem taxes and a study of alternative methods of taxation to replace revenue lost to political subdivisions as a result of the abolition of ad valorem taxes be it enacted by the legislature of the state of texas  the legislature finds that the imposition of ad valorem taxes is an inherently inequitable means to generate revenue necessary to fund the provision of essential services to residents of this state ad valorem taxes may increase annually without regard to the property owner \\xe2\\x80\\x99s ability to pay ad valorem taxes are perpetual and detrimental to private property rights as secured by the texas constitution the use of ad valorem taxes as a means to finance the maintenance of public free schools has led directly to three decades of school finance litigation in which the texas supreme court has referred to the system as \"byzantine\" and has urged the legislature to \"choose a new path\" of revenue for public free schools the use of ad valorem taxes by local governmental entities as a means to generate revenue to fund the provision of essential services places a disproportionate burden on those residents that own property to pay for services that are enjoyed by  cjc-d9 all residents and the legislature has an obligation to ensure that local governmental entities provide essential services in a manner that is fair and fiscally responsible and should encourage the use of a more equitable source of revenue such as the sales tax to fund the provision of those services it is the intent of the legislature to abolish ad valorem taxes and to create a more equitable means of funding the provision of essential services to residents of this state by local governmental entities and of meeting the state \\xe2\\x80\\x99s constitutional duty to make suitable provision for the support and maintenance of an efficient system of public free schools  the comptroller of public accounts shall conduct a comprehensive study of alternative methods of taxation to replace local tax revenue that will be lost when ad valorem taxes are abolished for each alternative method of taxation considered by the comptroller the comptroller shall consider whether political subdivisions that currently impose ad valorem taxes would have the authority to impose the proposed alternative tax determine the average tax rate for the proposed alternative tax imposed by each type of political subdivision that would be necessary to generate the same amount of tax revenue as the amount of tax revenue lost as a result of the abolition of ad valorem taxes determine if appropriate the effect that  broadening the application of the proposed alternative tax at the local level would have on the tax rates identified under subdivision  of this subsection identify whether tax revenue generated by the proposed alternative tax would require redistribution to offset disparities in available local tax revenue as a result of the abolition of ad valorem taxes and if so evaluate the different mechanisms of redistribution available and identify and examine any other issue that would need to be addressed to implement the abolition of ad valorem taxes on request of the comptroller a state agency or political subdivision shall provide information for and assistance in conducting the study under this section14 not later than december the comptroller shall prepare and submit to the governor lieutenant governor speaker of the house of representatives and members of the legislature a written report containing the results of the study and any recommendations for legislative or other action this section expires september  title tax code is repealed notwithstanding any other law this state or a political subdivision of this state may not impose an ad valorem tax to the extent of a conflict this section controls over a conflicting provision in a general or special law the change in law made by this section does not affect tax liability accruing before the effective date of this section27 that liability continues in effect as if this section had not been  enacted and the former law is continued in effect for the collection of taxes due and for civil and criminal enforcement of the liability for those taxes this section takes effect january except as otherwise provided by this act '\n",
      "Label: 0\n"
     ]
    }
   ],
   "source": [
    "for text_batch, label_batch in raw_train_ds.take(1):\n",
    "    for i in range(10):\n",
    "        print(\"Bill: \", text_batch.numpy()[i])\n",
    "        print(\"Label:\", label_batch.numpy()[i])"
   ]
  },
  {
   "cell_type": "code",
   "execution_count": 5,
   "id": "37ee9f74",
   "metadata": {},
   "outputs": [
    {
     "name": "stdout",
     "output_type": "stream",
     "text": [
      "Label 0 corresponds to failed\n",
      "Label 1 corresponds to passed\n"
     ]
    }
   ],
   "source": [
    "for i, label in enumerate(raw_train_ds.class_names):\n",
    "    print(\"Label\", i, \"corresponds to\", label)"
   ]
  },
  {
   "cell_type": "code",
   "execution_count": 6,
   "id": "c1a1d2d0",
   "metadata": {},
   "outputs": [
    {
     "name": "stdout",
     "output_type": "stream",
     "text": [
      "Found 44007 files belonging to 2 classes.\n",
      "Using 8801 files for validation.\n"
     ]
    }
   ],
   "source": [
    "# Create a validation set.\n",
    "raw_val_ds = utils.text_dataset_from_directory(\n",
    "    train_dir,\n",
    "    batch_size=batch_size,\n",
    "    validation_split=0.2,\n",
    "    subset='validation',\n",
    "    seed=seed)"
   ]
  },
  {
   "cell_type": "code",
   "execution_count": 7,
   "id": "028faacd",
   "metadata": {},
   "outputs": [],
   "source": [
    "VOCAB_SIZE = 10000\n",
    "MAX_SEQUENCE_LENGTH = 350\n",
    "\n",
    "text_vec_layer = TextVectorization(\n",
    "    max_tokens=VOCAB_SIZE,\n",
    "    )"
   ]
  },
  {
   "cell_type": "code",
   "execution_count": null,
   "id": "b5f90ce2",
   "metadata": {},
   "outputs": [],
   "source": [
    "# Make a text-only dataset (without labels), then call `TextVectorization.adapt`.\n",
    "train_text = raw_train_ds.map(lambda text, labels: text)\n",
    "text_vec_layer.adapt(train_text)\n"
   ]
  },
  {
   "cell_type": "code",
   "execution_count": null,
   "id": "b4d0a599",
   "metadata": {},
   "outputs": [],
   "source": [
    "def vectorize_text(text, label):\n",
    "    text = tf.expand_dims(text, -1)\n",
    "    return text_vec_layer(text), label"
   ]
  },
  {
   "cell_type": "code",
   "execution_count": null,
   "id": "a7722266",
   "metadata": {},
   "outputs": [],
   "source": [
    "# Retrieve a batch (of 32 reviews and labels) from the dataset.\n",
    "text_batch, label_batch = next(iter(raw_train_ds))\n",
    "first_question, first_label = text_batch[0], label_batch[0]\n",
    "print(\"Bill\", first_question)\n",
    "print(\"Label\", first_label)"
   ]
  },
  {
   "cell_type": "code",
   "execution_count": null,
   "id": "e173356c",
   "metadata": {},
   "outputs": [],
   "source": [
    "print(\"'text' vectorized question:\",\n",
    "      vectorize_text(first_question, first_label)[0])"
   ]
  },
  {
   "cell_type": "code",
   "execution_count": null,
   "id": "a4eddaca",
   "metadata": {},
   "outputs": [],
   "source": [
    "print(\"1289 ---> \", text_vec_layer.get_vocabulary()[1289])"
   ]
  },
  {
   "cell_type": "code",
   "execution_count": null,
   "id": "bca23c0f",
   "metadata": {},
   "outputs": [],
   "source": [
    "train_ds = raw_train_ds.map(vectorize_text)\n",
    "val_ds = raw_val_ds.map(vectorize_text)\n"
   ]
  },
  {
   "cell_type": "code",
   "execution_count": null,
   "id": "462c1668",
   "metadata": {},
   "outputs": [],
   "source": [
    "train_ds"
   ]
  },
  {
   "cell_type": "code",
   "execution_count": null,
   "id": "9fde6554",
   "metadata": {},
   "outputs": [],
   "source": [
    "AUTOTUNE = tf.data.AUTOTUNE\n",
    "\n",
    "def configure_dataset(dataset):\n",
    "    return dataset.cache().prefetch(buffer_size=AUTOTUNE)"
   ]
  },
  {
   "cell_type": "code",
   "execution_count": null,
   "id": "e9f022c2",
   "metadata": {},
   "outputs": [],
   "source": [
    "train_ds = configure_dataset(train_ds)\n",
    "val_ds = configure_dataset(val_ds)"
   ]
  },
  {
   "cell_type": "code",
   "execution_count": null,
   "id": "9d9ea9b6",
   "metadata": {},
   "outputs": [],
   "source": [
    "train_ds"
   ]
  },
  {
   "cell_type": "code",
   "execution_count": null,
   "id": "6d1051bf",
   "metadata": {},
   "outputs": [],
   "source": [
    "model = tf.keras.Sequential([\n",
    "    text_vec_layer,\n",
    "    tf.keras.layers.Embedding(\n",
    "        input_dim=10000,\n",
    "        output_dim=64,\n",
    "        # Use masking to handle the variable sequence lengths\n",
    "        mask_zero=True),\n",
    "    tf.keras.layers.Bidirectional(tf.keras.layers.LSTM(64)),\n",
    "    tf.keras.layers.Dense(64, activation='relu'),\n",
    "    tf.keras.layers.Dense(1)\n",
    "])\n",
    "model.summary()"
   ]
  },
  {
   "cell_type": "code",
   "execution_count": null,
   "id": "b930302f",
   "metadata": {},
   "outputs": [],
   "source": [
    "print([layer.supports_masking for layer in model.layers])\n"
   ]
  },
  {
   "cell_type": "code",
   "execution_count": null,
   "id": "3b6027fe",
   "metadata": {},
   "outputs": [],
   "source": [
    "import numpy as np\n",
    "sample_text = ('The movie was cool. The animation and the graphics '\n",
    "               'were out of this world. I would recommend this movie.')\n",
    "predictions = model.predict(np.array([sample_text]))\n",
    "print(predictions[0])"
   ]
  },
  {
   "cell_type": "code",
   "execution_count": null,
   "id": "7e669993",
   "metadata": {},
   "outputs": [],
   "source": [
    "# predict on a sample text with padding\n",
    "\n",
    "padding = \"the \" * 2000\n",
    "predictions = model.predict(np.array([sample_text, padding]))\n",
    "print(predictions[0])"
   ]
  },
  {
   "cell_type": "code",
   "execution_count": null,
   "id": "1c3c99b1",
   "metadata": {},
   "outputs": [],
   "source": [
    "model.compile(loss=tf.keras.losses.BinaryCrossentropy(from_logits=True),\n",
    "              optimizer=tf.keras.optimizers.Adam(1e-4),\n",
    "              metrics=['accuracy'])"
   ]
  },
  {
   "cell_type": "code",
   "execution_count": null,
   "id": "ad31dac6",
   "metadata": {},
   "outputs": [],
   "source": [
    "history = model.fit(raw_train_ds, epochs=10,\n",
    "                    validation_data=raw_val_ds,\n",
    "                    validation_steps=30, verbose=1)"
   ]
  },
  {
   "cell_type": "code",
   "execution_count": null,
   "id": "783379e0",
   "metadata": {},
   "outputs": [],
   "source": []
  }
 ],
 "metadata": {
  "kernelspec": {
   "display_name": "Python 3 (ipykernel)",
   "language": "python",
   "name": "python3"
  },
  "language_info": {
   "codemirror_mode": {
    "name": "ipython",
    "version": 3
   },
   "file_extension": ".py",
   "mimetype": "text/x-python",
   "name": "python",
   "nbconvert_exporter": "python",
   "pygments_lexer": "ipython3",
   "version": "3.10.1"
  }
 },
 "nbformat": 4,
 "nbformat_minor": 5
}
