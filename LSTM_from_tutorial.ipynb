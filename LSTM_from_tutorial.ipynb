{
 "cells": [
  {
   "cell_type": "code",
   "execution_count": 2,
   "id": "f0bf2c0b",
   "metadata": {},
   "outputs": [
    {
     "name": "stdout",
     "output_type": "stream",
     "text": [
      "2.11.0\n"
     ]
    },
    {
     "name": "stderr",
     "output_type": "stream",
     "text": [
      "[nltk_data] Downloading package stopwords to\n",
      "[nltk_data]     C:\\Users\\Eamon\\AppData\\Roaming\\nltk_data...\n",
      "[nltk_data]   Package stopwords is already up-to-date!\n"
     ]
    }
   ],
   "source": [
    "import csv\n",
    "import tensorflow as tf\n",
    "import numpy as np\n",
    "from tensorflow.keras.preprocessing.text import Tokenizer\n",
    "from tensorflow.keras.preprocessing.sequence import pad_sequences\n",
    "from nltk.corpus import stopwords\n",
    "import nltk\n",
    "nltk.download('stopwords')\n",
    "STOPWORDS = set(stopwords.words('english'))\n",
    "\n",
    "print(tf.__version__)"
   ]
  },
  {
   "cell_type": "code",
   "execution_count": 3,
   "id": "4b6449cb",
   "metadata": {},
   "outputs": [],
   "source": [
    "# set model parameters\n",
    "vocab_size = 10000\n",
    "embedding_dim = 64\n",
    "max_length = 200\n",
    "trunc_type = 'post'\n",
    "padding_type = 'post'\n",
    "oov_tok = '<OOV>'\n",
    "training_portion = .8"
   ]
  },
  {
   "cell_type": "code",
   "execution_count": 4,
   "id": "439c4a5f",
   "metadata": {},
   "outputs": [
    {
     "data": {
      "text/html": [
       "<div>\n",
       "<style scoped>\n",
       "    .dataframe tbody tr th:only-of-type {\n",
       "        vertical-align: middle;\n",
       "    }\n",
       "\n",
       "    .dataframe tbody tr th {\n",
       "        vertical-align: top;\n",
       "    }\n",
       "\n",
       "    .dataframe thead th {\n",
       "        text-align: right;\n",
       "    }\n",
       "</style>\n",
       "<table border=\"1\" class=\"dataframe\">\n",
       "  <thead>\n",
       "    <tr style=\"text-align: right;\">\n",
       "      <th></th>\n",
       "      <th>labels</th>\n",
       "      <th>big_text</th>\n",
       "    </tr>\n",
       "  </thead>\n",
       "  <tbody>\n",
       "    <tr>\n",
       "      <th>0</th>\n",
       "      <td>0</td>\n",
       "      <td>hopson  a bill to be entitled an act relating ...</td>\n",
       "    </tr>\n",
       "    <tr>\n",
       "      <th>1</th>\n",
       "      <td>0</td>\n",
       "      <td>hochberg  a bill to be entitled an act relatin...</td>\n",
       "    </tr>\n",
       "    <tr>\n",
       "      <th>2</th>\n",
       "      <td>0</td>\n",
       "      <td>crabb  a bill to be entitled an act relating t...</td>\n",
       "    </tr>\n",
       "    <tr>\n",
       "      <th>3</th>\n",
       "      <td>0</td>\n",
       "      <td>morrison  a bill to be entitled an act relatin...</td>\n",
       "    </tr>\n",
       "    <tr>\n",
       "      <th>4</th>\n",
       "      <td>1</td>\n",
       "      <td>mccall  a bill to be entitled an act relating ...</td>\n",
       "    </tr>\n",
       "    <tr>\n",
       "      <th>...</th>\n",
       "      <td>...</td>\n",
       "      <td>...</td>\n",
       "    </tr>\n",
       "    <tr>\n",
       "      <th>44034</th>\n",
       "      <td>1</td>\n",
       "      <td>morales of maverick hb a noa 4667 a bill to ...</td>\n",
       "    </tr>\n",
       "    <tr>\n",
       "      <th>44035</th>\n",
       "      <td>1</td>\n",
       "      <td>murr hb a noa 4668 a bill to be entitled an ...</td>\n",
       "    </tr>\n",
       "    <tr>\n",
       "      <th>44036</th>\n",
       "      <td>1</td>\n",
       "      <td>cain hb a noa 4669 a bill to be entitled an ...</td>\n",
       "    </tr>\n",
       "    <tr>\n",
       "      <th>44037</th>\n",
       "      <td>0</td>\n",
       "      <td>capriglione hb a noa 4670 a bill to be entit...</td>\n",
       "    </tr>\n",
       "    <tr>\n",
       "      <th>44038</th>\n",
       "      <td>0</td>\n",
       "      <td>a johnson of harris hb a noa 4671 a bill to ...</td>\n",
       "    </tr>\n",
       "  </tbody>\n",
       "</table>\n",
       "<p>44039 rows × 2 columns</p>\n",
       "</div>"
      ],
      "text/plain": [
       "       labels                                           big_text\n",
       "0           0  hopson  a bill to be entitled an act relating ...\n",
       "1           0  hochberg  a bill to be entitled an act relatin...\n",
       "2           0  crabb  a bill to be entitled an act relating t...\n",
       "3           0  morrison  a bill to be entitled an act relatin...\n",
       "4           1  mccall  a bill to be entitled an act relating ...\n",
       "...       ...                                                ...\n",
       "44034       1    morales of maverick hb a noa 4667 a bill to ...\n",
       "44035       1    murr hb a noa 4668 a bill to be entitled an ...\n",
       "44036       1    cain hb a noa 4669 a bill to be entitled an ...\n",
       "44037       0    capriglione hb a noa 4670 a bill to be entit...\n",
       "44038       0    a johnson of harris hb a noa 4671 a bill to ...\n",
       "\n",
       "[44039 rows x 2 columns]"
      ]
     },
     "execution_count": 4,
     "metadata": {},
     "output_type": "execute_result"
    }
   ],
   "source": [
    "import pandas as pd\n",
    "corpus = pd.read_csv(r\"C:\\Users\\Eamon\\Downloads\\text_master.csv\")\n",
    "corpus"
   ]
  },
  {
   "cell_type": "code",
   "execution_count": 5,
   "id": "dcbdc6ef",
   "metadata": {},
   "outputs": [],
   "source": [
    "# remove all null/blank text references in case they cause error\n",
    "indices_remove = []\n",
    "for x in range(len(corpus['big_text'])):\n",
    "    if(not isinstance(corpus.iloc[x]['big_text'], str)):\n",
    "        indices_remove.append(x)\n",
    "        #print(corpus.iloc[x]['big_text'])\n",
    "        \n",
    "#indices_remove"
   ]
  },
  {
   "cell_type": "code",
   "execution_count": 6,
   "id": "10e80f07",
   "metadata": {},
   "outputs": [],
   "source": [
    "for x in indices_remove:\n",
    "    corpus = corpus.drop(index=x)"
   ]
  },
  {
   "cell_type": "code",
   "execution_count": 7,
   "id": "e5775b4a",
   "metadata": {},
   "outputs": [
    {
     "data": {
      "text/plain": [
       "[]"
      ]
     },
     "execution_count": 7,
     "metadata": {},
     "output_type": "execute_result"
    }
   ],
   "source": [
    "indices_remove = []\n",
    "for x in range(len(corpus['big_text'])):\n",
    "    if(not isinstance(corpus.iloc[x]['big_text'], str)):\n",
    "        indices_remove.append(x)\n",
    "        print(corpus.iloc[x]['big_text'])\n",
    "        \n",
    "indices_remove"
   ]
  },
  {
   "cell_type": "code",
   "execution_count": 8,
   "id": "fe01433c",
   "metadata": {},
   "outputs": [],
   "source": [
    "corpus.to_csv(\"local_text_master.csv\", index=False)"
   ]
  },
  {
   "cell_type": "code",
   "execution_count": 9,
   "id": "1fabb62a",
   "metadata": {},
   "outputs": [],
   "source": [
    "# quick and dirty fix to field larger than field limit error\n",
    "import sys\n",
    "import csv\n",
    "maxInt = sys.maxsize\n",
    "\n",
    "while True:\n",
    "    # decrease the maxInt value by factor 10 \n",
    "    # as long as the OverflowError occurs.\n",
    "\n",
    "    try:\n",
    "        csv.field_size_limit(maxInt)\n",
    "        break\n",
    "    except OverflowError:\n",
    "        maxInt = int(maxInt/10)"
   ]
  },
  {
   "cell_type": "code",
   "execution_count": 10,
   "id": "3dff9e12",
   "metadata": {},
   "outputs": [
    {
     "data": {
      "text/html": [
       "<div>\n",
       "<style scoped>\n",
       "    .dataframe tbody tr th:only-of-type {\n",
       "        vertical-align: middle;\n",
       "    }\n",
       "\n",
       "    .dataframe tbody tr th {\n",
       "        vertical-align: top;\n",
       "    }\n",
       "\n",
       "    .dataframe thead th {\n",
       "        text-align: right;\n",
       "    }\n",
       "</style>\n",
       "<table border=\"1\" class=\"dataframe\">\n",
       "  <thead>\n",
       "    <tr style=\"text-align: right;\">\n",
       "      <th></th>\n",
       "      <th>labels</th>\n",
       "      <th>big_text</th>\n",
       "    </tr>\n",
       "  </thead>\n",
       "  <tbody>\n",
       "    <tr>\n",
       "      <th>0</th>\n",
       "      <td>0</td>\n",
       "      <td>hopson  a bill to be entitled an act relating ...</td>\n",
       "    </tr>\n",
       "    <tr>\n",
       "      <th>1</th>\n",
       "      <td>0</td>\n",
       "      <td>hochberg  a bill to be entitled an act relatin...</td>\n",
       "    </tr>\n",
       "    <tr>\n",
       "      <th>2</th>\n",
       "      <td>0</td>\n",
       "      <td>crabb  a bill to be entitled an act relating t...</td>\n",
       "    </tr>\n",
       "    <tr>\n",
       "      <th>3</th>\n",
       "      <td>0</td>\n",
       "      <td>morrison  a bill to be entitled an act relatin...</td>\n",
       "    </tr>\n",
       "    <tr>\n",
       "      <th>4</th>\n",
       "      <td>1</td>\n",
       "      <td>mccall  a bill to be entitled an act relating ...</td>\n",
       "    </tr>\n",
       "    <tr>\n",
       "      <th>...</th>\n",
       "      <td>...</td>\n",
       "      <td>...</td>\n",
       "    </tr>\n",
       "    <tr>\n",
       "      <th>44002</th>\n",
       "      <td>1</td>\n",
       "      <td>morales of maverick hb a noa 4667 a bill to ...</td>\n",
       "    </tr>\n",
       "    <tr>\n",
       "      <th>44003</th>\n",
       "      <td>1</td>\n",
       "      <td>murr hb a noa 4668 a bill to be entitled an ...</td>\n",
       "    </tr>\n",
       "    <tr>\n",
       "      <th>44004</th>\n",
       "      <td>1</td>\n",
       "      <td>cain hb a noa 4669 a bill to be entitled an ...</td>\n",
       "    </tr>\n",
       "    <tr>\n",
       "      <th>44005</th>\n",
       "      <td>0</td>\n",
       "      <td>capriglione hb a noa 4670 a bill to be entit...</td>\n",
       "    </tr>\n",
       "    <tr>\n",
       "      <th>44006</th>\n",
       "      <td>0</td>\n",
       "      <td>a johnson of harris hb a noa 4671 a bill to ...</td>\n",
       "    </tr>\n",
       "  </tbody>\n",
       "</table>\n",
       "<p>44007 rows × 2 columns</p>\n",
       "</div>"
      ],
      "text/plain": [
       "       labels                                           big_text\n",
       "0           0  hopson  a bill to be entitled an act relating ...\n",
       "1           0  hochberg  a bill to be entitled an act relatin...\n",
       "2           0  crabb  a bill to be entitled an act relating t...\n",
       "3           0  morrison  a bill to be entitled an act relatin...\n",
       "4           1  mccall  a bill to be entitled an act relating ...\n",
       "...       ...                                                ...\n",
       "44002       1    morales of maverick hb a noa 4667 a bill to ...\n",
       "44003       1    murr hb a noa 4668 a bill to be entitled an ...\n",
       "44004       1    cain hb a noa 4669 a bill to be entitled an ...\n",
       "44005       0    capriglione hb a noa 4670 a bill to be entit...\n",
       "44006       0    a johnson of harris hb a noa 4671 a bill to ...\n",
       "\n",
       "[44007 rows x 2 columns]"
      ]
     },
     "execution_count": 10,
     "metadata": {},
     "output_type": "execute_result"
    }
   ],
   "source": [
    "# shuffle dataset\n",
    "corpus = pd.read_csv(\"local_text_master.csv\")\n",
    "corpus"
   ]
  },
  {
   "cell_type": "code",
   "execution_count": 23,
   "id": "10f1738d",
   "metadata": {},
   "outputs": [],
   "source": [
    "shuffled = corpus.sample(frac=1, random_state=1).reset_index()\n",
    "shuffled = shuffled.drop(['index'], axis=1)\n",
    "shuffled.to_csv(\"shuffled_text_master.csv\", index=False)"
   ]
  },
  {
   "cell_type": "code",
   "execution_count": 32,
   "id": "396e7215",
   "metadata": {},
   "outputs": [],
   "source": [
    "df = pd.read_csv(\"shuffled_text_master.csv\")"
   ]
  },
  {
   "cell_type": "code",
   "execution_count": 33,
   "id": "bb50c76b",
   "metadata": {},
   "outputs": [
    {
     "data": {
      "text/html": [
       "<div>\n",
       "<style scoped>\n",
       "    .dataframe tbody tr th:only-of-type {\n",
       "        vertical-align: middle;\n",
       "    }\n",
       "\n",
       "    .dataframe tbody tr th {\n",
       "        vertical-align: top;\n",
       "    }\n",
       "\n",
       "    .dataframe thead th {\n",
       "        text-align: right;\n",
       "    }\n",
       "</style>\n",
       "<table border=\"1\" class=\"dataframe\">\n",
       "  <thead>\n",
       "    <tr style=\"text-align: right;\">\n",
       "      <th></th>\n",
       "      <th>labels</th>\n",
       "      <th>big_text</th>\n",
       "    </tr>\n",
       "  </thead>\n",
       "  <tbody>\n",
       "    <tr>\n",
       "      <th>0</th>\n",
       "      <td>0</td>\n",
       "      <td>parker  a bill to be entitled an act relating ...</td>\n",
       "    </tr>\n",
       "    <tr>\n",
       "      <th>1</th>\n",
       "      <td>0</td>\n",
       "      <td>gallego  a bill to be entitled an act relating...</td>\n",
       "    </tr>\n",
       "    <tr>\n",
       "      <th>2</th>\n",
       "      <td>0</td>\n",
       "      <td>thompson of harris hb a noa 834 a bill to be...</td>\n",
       "    </tr>\n",
       "    <tr>\n",
       "      <th>3</th>\n",
       "      <td>0</td>\n",
       "      <td>bailey  a bill to be entitled an act relating ...</td>\n",
       "    </tr>\n",
       "    <tr>\n",
       "      <th>4</th>\n",
       "      <td>0</td>\n",
       "      <td>bucy hb a noa 2061 a bill to be entitled an ...</td>\n",
       "    </tr>\n",
       "    <tr>\n",
       "      <th>...</th>\n",
       "      <td>...</td>\n",
       "      <td>...</td>\n",
       "    </tr>\n",
       "    <tr>\n",
       "      <th>44002</th>\n",
       "      <td>0</td>\n",
       "      <td>slawson hb a noa 4386 a bill to be entitled ...</td>\n",
       "    </tr>\n",
       "    <tr>\n",
       "      <th>44003</th>\n",
       "      <td>1</td>\n",
       "      <td>phillips  a bill to be entitled an act relatin...</td>\n",
       "    </tr>\n",
       "    <tr>\n",
       "      <th>44004</th>\n",
       "      <td>0</td>\n",
       "      <td>madden  a bill to be entitled an act relating ...</td>\n",
       "    </tr>\n",
       "    <tr>\n",
       "      <th>44005</th>\n",
       "      <td>0</td>\n",
       "      <td>pickett  a bill to be entitled an act relating...</td>\n",
       "    </tr>\n",
       "    <tr>\n",
       "      <th>44006</th>\n",
       "      <td>0</td>\n",
       "      <td>neave  a bill to be entitled an act relating t...</td>\n",
       "    </tr>\n",
       "  </tbody>\n",
       "</table>\n",
       "<p>44007 rows × 2 columns</p>\n",
       "</div>"
      ],
      "text/plain": [
       "       labels                                           big_text\n",
       "0           0  parker  a bill to be entitled an act relating ...\n",
       "1           0  gallego  a bill to be entitled an act relating...\n",
       "2           0    thompson of harris hb a noa 834 a bill to be...\n",
       "3           0  bailey  a bill to be entitled an act relating ...\n",
       "4           0    bucy hb a noa 2061 a bill to be entitled an ...\n",
       "...       ...                                                ...\n",
       "44002       0    slawson hb a noa 4386 a bill to be entitled ...\n",
       "44003       1  phillips  a bill to be entitled an act relatin...\n",
       "44004       0  madden  a bill to be entitled an act relating ...\n",
       "44005       0  pickett  a bill to be entitled an act relating...\n",
       "44006       0  neave  a bill to be entitled an act relating t...\n",
       "\n",
       "[44007 rows x 2 columns]"
      ]
     },
     "execution_count": 33,
     "metadata": {},
     "output_type": "execute_result"
    }
   ],
   "source": [
    "df"
   ]
  },
  {
   "cell_type": "code",
   "execution_count": 24,
   "id": "4c77ab36",
   "metadata": {},
   "outputs": [
    {
     "name": "stdout",
     "output_type": "stream",
     "text": [
      "44007\n",
      "44007\n"
     ]
    }
   ],
   "source": [
    "articles = []\n",
    "labels = []\n",
    "\n",
    "with open(\"shuffled_text_master.csv\", 'r') as csvfile:\n",
    "    reader = csv.reader(csvfile, delimiter=',')\n",
    "    next(reader)\n",
    "    for row in reader:\n",
    "        labels.append(row[0])\n",
    "        article = row[1]\n",
    "        for word in STOPWORDS:\n",
    "            token = ' ' + word + ' '\n",
    "            article = article.replace(token, ' ')\n",
    "            article = article.replace(' ', ' ')\n",
    "        articles.append(article)\n",
    "print(len(labels))\n",
    "print(len(articles))"
   ]
  },
  {
   "cell_type": "code",
   "execution_count": 62,
   "id": "30d25a73",
   "metadata": {},
   "outputs": [
    {
     "data": {
      "text/plain": [
       "225.0"
      ]
     },
     "execution_count": 62,
     "metadata": {},
     "output_type": "execute_result"
    }
   ],
   "source": [
    "# average bill length\n",
    "length_array = []\n",
    "for article in articles:\n",
    "    length_array.append(article.count(\" \"))\n",
    "    \n",
    "np.average(length_array)\n",
    "# should be 600ish\n",
    "np.argmax(length_array)\n",
    "np.median(length_array)"
   ]
  },
  {
   "cell_type": "code",
   "execution_count": 61,
   "id": "aa794bcd",
   "metadata": {},
   "outputs": [
    {
     "data": {
      "image/png": "[encoded data removed]",
      "text/plain": [
       "<Figure size 640x480 with 1 Axes>"
      ]
     },
     "metadata": {},
     "output_type": "display_data"
    }
   ],
   "source": [
    "import matplotlib.pyplot as plt\n",
    "plt.hist(length_array, bins=100, range=(0, 2500))\n",
    "plt.show()"
   ]
  },
  {
   "cell_type": "code",
   "execution_count": 39,
   "id": "a76aa9ea",
   "metadata": {},
   "outputs": [
    {
     "data": {
      "text/plain": [
       "2781.405309749653"
      ]
     },
     "execution_count": 39,
     "metadata": {},
     "output_type": "execute_result"
    }
   ],
   "source": [
    "# average bill standard deviation\n",
    "np.std(length_array)\n",
    "#should be 2000ish"
   ]
  },
  {
   "cell_type": "code",
   "execution_count": 41,
   "id": "ad7198ac",
   "metadata": {},
   "outputs": [
    {
     "name": "stdout",
     "output_type": "stream",
     "text": [
      "35205\n",
      "35205\n",
      "35205\n",
      "8802\n",
      "8802\n"
     ]
    }
   ],
   "source": [
    "train_size = int(len(articles) * training_portion)\n",
    "\n",
    "train_articles = articles[0: train_size]\n",
    "train_labels = labels[0: train_size]\n",
    "\n",
    "validation_articles = articles[train_size:]\n",
    "validation_labels = labels[train_size:]\n",
    "\n",
    "print(train_size)\n",
    "print(len(train_articles))\n",
    "print(len(train_labels))\n",
    "print(len(validation_articles))\n",
    "print(len(validation_labels))"
   ]
  },
  {
   "cell_type": "code",
   "execution_count": 45,
   "id": "15febc62",
   "metadata": {},
   "outputs": [
    {
     "data": {
      "text/plain": [
       "{'day': 101,\n",
       " 'system': 102,\n",
       " 'member': 103,\n",
       " 'sec': 104,\n",
       " 'purposes': 105,\n",
       " 'entity': 106,\n",
       " 'officer': 107,\n",
       " 'subject': 108,\n",
       " 'purpose': 109,\n",
       " 'report': 110,\n",
       " 'office': 111,\n",
       " 'effect': 112,\n",
       " 'issued': 113,\n",
       " 'water': 114,\n",
       " 'facility': 115,\n",
       " 'a': 116,\n",
       " 'individual': 117,\n",
       " 'necessary': 118,\n",
       " 'requirements': 119,\n",
       " 'corner': 120,\n",
       " 'except': 121,\n",
       " 'authorized': 122,\n",
       " 'fund': 123,\n",
       " 'rate': 124,\n",
       " 'certain': 125,\n",
       " 'later': 126,\n",
       " 'line': 127,\n",
       " 'fee': 128,\n",
       " 'municipality': 129,\n",
       " 'business': 130,\n",
       " 'employee': 131,\n",
       " 'bonds': 132,\n",
       " 'applicant': 133,\n",
       " 'number': 134,\n",
       " 'attorney': 135,\n",
       " 'following': 136,\n",
       " 'vehicle': 137,\n",
       " 'federal': 138,\n",
       " 'included': 139,\n",
       " 'applicable': 140,\n",
       " 'applies': 141,\n",
       " 'interest': 142,\n",
       " 'hb': 143,\n",
       " 'medical': 144,\n",
       " 'years': 145,\n",
       " 'subdivision': 146,\n",
       " 'directors': 147,\n",
       " 'action': 148,\n",
       " 'used': 149,\n",
       " 'transportation': 150,\n",
       " 'period': 151,\n",
       " 'payment': 152,\n",
       " 'hearing': 153,\n",
       " 'comptroller': 154,\n",
       " 'apply': 155,\n",
       " 'rule': 156,\n",
       " 'distance': 157,\n",
       " '3': 158,\n",
       " 'include': 159,\n",
       " 'acts': 160,\n",
       " 'noa': 161,\n",
       " 'point': 162,\n",
       " 'pay': 163,\n",
       " 'credit': 164,\n",
       " 'adopted': 165,\n",
       " 'certificate': 166,\n",
       " 'sub': 167,\n",
       " 'director': 168,\n",
       " 'value': 169,\n",
       " 'land': 170,\n",
       " 'least': 171,\n",
       " 'executive': 172,\n",
       " 'agreement': 173,\n",
       " 'adopt': 174,\n",
       " 'another': 175,\n",
       " 'owner': 176,\n",
       " 'provider': 177,\n",
       " 'project': 178,\n",
       " 'revenue': 179,\n",
       " 'organization': 180,\n",
       " 'taxes': 181,\n",
       " 'acre': 182,\n",
       " 'right': 183,\n",
       " 'appropriate': 184,\n",
       " 'money': 185,\n",
       " 'filed': 186,\n",
       " 'defendant': 187,\n",
       " 'family': 188,\n",
       " 'within': 189,\n",
       " 'written': 190,\n",
       " 'members': 191,\n",
       " 'request': 192,\n",
       " 'whether': 193,\n",
       " 'manner': 194,\n",
       " 'procedure': 195,\n",
       " 'conduct': 196,\n",
       " 'benefit': 197,\n",
       " 'records': 198,\n",
       " 'review': 199,\n",
       " 'states': 200}"
      ]
     },
     "execution_count": 45,
     "metadata": {},
     "output_type": "execute_result"
    }
   ],
   "source": [
    "tokenizer = Tokenizer(num_words = vocab_size, oov_token=oov_tok)\n",
    "tokenizer.fit_on_texts(train_articles)\n",
    "word_index = tokenizer.word_index\n",
    "dict(list(word_index.items())[100:200])"
   ]
  },
  {
   "cell_type": "code",
   "execution_count": 46,
   "id": "bd3b1914",
   "metadata": {},
   "outputs": [
    {
     "name": "stdout",
     "output_type": "stream",
     "text": [
      "[5531, 1857, 1917, 80, 61, 9, 58, 2158, 15, 147, 7216, 421, 6298, 947, 89, 125, 745, 84, 53, 4, 12, 1, 88, 50, 2, 10, 13, 11, 1, 1, 232, 261, 89, 15, 147, 856, 535, 17, 21, 89, 209, 129, 189, 533, 22, 89, 24, 535, 114, 226, 189, 25, 533, 89, 651, 71, 146, 23, 535, 114, 6, 189, 27, 533, 89, 251, 171, 145, 26, 103, 307, 103, 4, 30, 53, 471, 569, 6, 1073, 1252, 29, 533, 89, 32, 535, 12, 20, 36, 150, 307, 12, 150, 16, 37]\n"
     ]
    }
   ],
   "source": [
    "train_sequences = tokenizer.texts_to_sequences(train_articles)\n",
    "print(train_sequences[10])"
   ]
  },
  {
   "cell_type": "code",
   "execution_count": 47,
   "id": "7b298679",
   "metadata": {},
   "outputs": [
    {
     "data": {
      "text/plain": [
       "'gonzËœlez el paso  bill entitled act relating composition board directors stormwater control recapture planning authority certain counties enacted legislature state texas section391a004 local government code amended read follows a004board directorsthe governing body authority board directors composed representative county 11 authority located municipality within territory 12 authority 13 representative water utility within 14 territory authority also described subdivision  15 representative water district within 16 territory authority operation least years 18 member appointed member state 19 legislature whose legislative district wholly partly 20 territory authority 21 representative texas department 22 transportation appointed texas transportation commission 23 '"
      ]
     },
     "execution_count": 47,
     "metadata": {},
     "output_type": "execute_result"
    }
   ],
   "source": [
    "train_articles[10]"
   ]
  },
  {
   "cell_type": "code",
   "execution_count": 63,
   "id": "c120ed59",
   "metadata": {},
   "outputs": [
    {
     "name": "stdout",
     "output_type": "stream",
     "text": [
      "457\n",
      "225\n",
      "240\n",
      "225\n",
      "94\n",
      "225\n"
     ]
    }
   ],
   "source": [
    "# pad and max our sequences\n",
    "max_length = 225\n",
    "train_padded = pad_sequences(train_sequences, maxlen=max_length, padding=padding_type, truncating=trunc_type)\n",
    "print(len(train_sequences[0]))\n",
    "print(len(train_padded[0]))\n",
    "\n",
    "print(len(train_sequences[1]))\n",
    "print(len(train_padded[1]))\n",
    "\n",
    "print(len(train_sequences[10]))\n",
    "print(len(train_padded[10]))"
   ]
  },
  {
   "cell_type": "code",
   "execution_count": 64,
   "id": "73d264e5",
   "metadata": {},
   "outputs": [
    {
     "name": "stdout",
     "output_type": "stream",
     "text": [
      "[5531 1857 1917   80   61    9   58 2158   15  147 7216  421 6298  947\n",
      "   89  125  745   84   53    4   12    1   88   50    2   10   13   11\n",
      "    1    1  232  261   89   15  147  856  535   17   21   89  209  129\n",
      "  189  533   22   89   24  535  114  226  189   25  533   89  651   71\n",
      "  146   23  535  114    6  189   27  533   89  251  171  145   26  103\n",
      "  307  103    4   30   53  471  569    6 1073 1252   29  533   89   32\n",
      "  535   12   20   36  150  307   12  150   16   37    0    0    0    0\n",
      "    0    0    0    0    0    0    0    0    0    0    0    0    0    0\n",
      "    0    0    0    0    0    0    0    0    0    0    0    0    0    0\n",
      "    0    0    0    0    0    0    0    0    0    0    0    0    0    0\n",
      "    0    0    0    0    0    0    0    0    0    0    0    0    0    0\n",
      "    0    0    0    0    0    0    0    0    0    0    0    0    0    0\n",
      "    0    0    0    0    0    0    0    0    0    0    0    0    0    0\n",
      "    0    0    0    0    0    0    0    0    0    0    0    0    0    0\n",
      "    0    0    0    0    0    0    0    0    0    0    0    0    0    0\n",
      "    0    0    0    0    0    0    0    0    0    0    0    0    0    0\n",
      "    0]\n"
     ]
    }
   ],
   "source": [
    "print(train_padded[10])"
   ]
  },
  {
   "cell_type": "code",
   "execution_count": 65,
   "id": "b9d9570e",
   "metadata": {},
   "outputs": [
    {
     "name": "stdout",
     "output_type": "stream",
     "text": [
      "8802\n",
      "(8802, 225)\n"
     ]
    }
   ],
   "source": [
    "validation_sequences = tokenizer.texts_to_sequences(validation_articles)\n",
    "validation_padded = pad_sequences(validation_sequences, maxlen=max_length, padding=padding_type, truncating=trunc_type)\n",
    "\n",
    "print(len(validation_sequences))\n",
    "print(validation_padded.shape)"
   ]
  },
  {
   "cell_type": "code",
   "execution_count": 66,
   "id": "1f6811cc",
   "metadata": {},
   "outputs": [
    {
     "name": "stdout",
     "output_type": "stream",
     "text": [
      "[1]\n",
      "[1]\n",
      "[1]\n",
      "(35205, 1)\n",
      "[1]\n",
      "[1]\n",
      "[1]\n",
      "(8802, 1)\n"
     ]
    }
   ],
   "source": [
    "# tokenize our labels\n",
    "label_tokenizer = Tokenizer()\n",
    "label_tokenizer.fit_on_texts(labels)\n",
    "\n",
    "training_label_seq = np.array(label_tokenizer.texts_to_sequences(train_labels))\n",
    "validation_label_seq = np.array(label_tokenizer.texts_to_sequences(validation_labels))\n",
    "print(training_label_seq[0])\n",
    "print(training_label_seq[1])\n",
    "print(training_label_seq[2])\n",
    "print(training_label_seq.shape)\n",
    "\n",
    "print(validation_label_seq[0])\n",
    "print(validation_label_seq[1])\n",
    "print(validation_label_seq[2])\n",
    "print(validation_label_seq.shape)"
   ]
  },
  {
   "cell_type": "code",
   "execution_count": 70,
   "id": "7fce8a8a",
   "metadata": {},
   "outputs": [
    {
     "data": {
      "text/plain": [
       "array([[1],\n",
       "       [1],\n",
       "       [1],\n",
       "       [1],\n",
       "       [1],\n",
       "       [1],\n",
       "       [1],\n",
       "       [1],\n",
       "       [1],\n",
       "       [1],\n",
       "       [2],\n",
       "       [1],\n",
       "       [1],\n",
       "       [1],\n",
       "       [1],\n",
       "       [1],\n",
       "       [1],\n",
       "       [1],\n",
       "       [1],\n",
       "       [2],\n",
       "       [1],\n",
       "       [1],\n",
       "       [2],\n",
       "       [2],\n",
       "       [1]])"
      ]
     },
     "execution_count": 70,
     "metadata": {},
     "output_type": "execute_result"
    }
   ],
   "source": [
    "training_label_seq[0:25]"
   ]
  },
  {
   "cell_type": "code",
   "execution_count": 71,
   "id": "efc1cb72",
   "metadata": {},
   "outputs": [
    {
     "name": "stdout",
     "output_type": "stream",
     "text": [
      "gonzëœlez el paso bill entitled act relating composition board directors stormwater control recapture planning authority certain counties enacted legislature state texas <OOV> local government code amended read follows <OOV> <OOV> governing body authority board directors composed representative county 11 authority located municipality within territory 12 authority 13 representative water utility within 14 territory authority also described subdivision 15 representative water district within 16 territory authority operation least years 18 member appointed member state 19 legislature whose legislative district wholly partly 20 territory authority 21 representative texas department 22 transportation appointed texas transportation commission 23 ? ? ? ? ? ? ? ? ? ? ? ? ? ? ? ? ? ? ? ? ? ? ? ? ? ? ? ? ? ? ? ? ? ? ? ? ? ? ? ? ? ? ? ? ? ? ? ? ? ? ? ? ? ? ? ? ? ? ? ? ? ? ? ? ? ? ? ? ? ? ? ? ? ? ? ? ? ? ? ? ? ? ? ? ? ? ? ? ? ? ? ? ? ? ? ? ? ? ? ? ? ? ? ? ? ? ? ? ? ? ? ? ? ? ? ? ? ? ? ? ? ? ? ? ? ? ? ? ? ? ?\n",
      "---\n",
      "gonzËœlez el paso  bill entitled act relating composition board directors stormwater control recapture planning authority certain counties enacted legislature state texas section391a004 local government code amended read follows a004board directorsthe governing body authority board directors composed representative county 11 authority located municipality within territory 12 authority 13 representative water utility within 14 territory authority also described subdivision  15 representative water district within 16 territory authority operation least years 18 member appointed member state 19 legislature whose legislative district wholly partly 20 territory authority 21 representative texas department 22 transportation appointed texas transportation commission 23 \n"
     ]
    }
   ],
   "source": [
    "reverse_word_index = dict([(value, key) for (key, value) in word_index.items()])\n",
    "\n",
    "def decode_article(text):\n",
    "    return ' '.join([reverse_word_index.get(i, '?') for i in text])\n",
    "print(decode_article(train_padded[10]))\n",
    "print('---')\n",
    "print(train_articles[10])"
   ]
  },
  {
   "cell_type": "code",
   "execution_count": 86,
   "id": "4b5d3976",
   "metadata": {},
   "outputs": [
    {
     "name": "stdout",
     "output_type": "stream",
     "text": [
      "Model: \"sequential_4\"\n",
      "_________________________________________________________________\n",
      " Layer (type)                Output Shape              Param #   \n",
      "=================================================================\n",
      " embedding_4 (Embedding)     (None, None, 64)          640000    \n",
      "                                                                 \n",
      " bidirectional_4 (Bidirectio  (None, 128)              66048     \n",
      " nal)                                                            \n",
      "                                                                 \n",
      " dense_8 (Dense)             (None, 64)                8256      \n",
      "                                                                 \n",
      " dense_9 (Dense)             (None, 1)                 65        \n",
      "                                                                 \n",
      "=================================================================\n",
      "Total params: 714,369\n",
      "Trainable params: 714,369\n",
      "Non-trainable params: 0\n",
      "_________________________________________________________________\n"
     ]
    }
   ],
   "source": [
    "model = tf.keras.Sequential([\n",
    "    # Add an Embedding layer expecting input vocab of size 5000, and output embedding dimension of size 64 we set at the top\n",
    "    tf.keras.layers.Embedding(vocab_size, embedding_dim,  mask_zero=True),\n",
    "    tf.keras.layers.Bidirectional(tf.keras.layers.LSTM(embedding_dim)),\n",
    "#    tf.keras.layers.Bidirectional(tf.keras.layers.LSTM(32)),\n",
    "    # use ReLU in place of tanh function since they are very good alternatives of each other.\n",
    "    tf.keras.layers.Dense(embedding_dim, activation='relu'),\n",
    "    # Add a Dense layer with 6 units and softmax activation.\n",
    "    # When we have multiple outputs, softmax convert outputs layers into a probability distribution.\n",
    "    tf.keras.layers.Dense(1, activation='sigmoid')\n",
    "])\n",
    "model.summary()"
   ]
  },
  {
   "cell_type": "code",
   "execution_count": 102,
   "id": "be0b55f2",
   "metadata": {},
   "outputs": [
    {
     "name": "stdout",
     "output_type": "stream",
     "text": [
      "Model: \"sequential_9\"\n",
      "_________________________________________________________________\n",
      " Layer (type)                Output Shape              Param #   \n",
      "=================================================================\n",
      " embedding_10 (Embedding)    (None, None, 64)          640000    \n",
      "                                                                 \n",
      " lstm_9 (LSTM)               (None, 128)               98816     \n",
      "                                                                 \n",
      " dense_14 (Dense)            (None, 1)                 129       \n",
      "                                                                 \n",
      "=================================================================\n",
      "Total params: 738,945\n",
      "Trainable params: 738,945\n",
      "Non-trainable params: 0\n",
      "_________________________________________________________________\n"
     ]
    }
   ],
   "source": [
    "from keras.regularizers import l2\n",
    "model = tf.keras.Sequential([\n",
    "    tf.keras.layers.Embedding(vocab_size, embedding_dim, mask_zero=True),\n",
    "    tf.keras.layers.LSTM(128, dropout=0.2, kernel_regularizer=l2(0.0000001), \n",
    "                        activity_regularizer=l2(0.0000001)),\n",
    "    tf.keras.layers.Dense(1, activation=\"sigmoid\")\n",
    "])\n",
    "\n",
    "model.summary()"
   ]
  },
  {
   "cell_type": "code",
   "execution_count": 110,
   "id": "3bd7aee1",
   "metadata": {},
   "outputs": [],
   "source": [
    "from keras.models import Sequential\n",
    "from keras.layers import Flatten, Dense, LSTM, Embedding, Dropout\n",
    "\n",
    "embedding_vector_features=45\n",
    "\n",
    "model=Sequential()\n",
    "\n",
    "model.add(Embedding(vocab_size,embedding_vector_features,input_length=max_length))\n",
    "\n",
    "model.add(LSTM(128,activation='relu',return_sequences=True))\n",
    "\n",
    "model.add(Dropout(0.2))\n",
    "\n",
    "model.add(LSTM(128,activation='relu'))\n",
    "\n",
    "model.add(Dropout(0.2))\n",
    "\n",
    "for units in [128,128,64,32]:\n",
    "\n",
    "    model.add(Dense(units,activation='relu'))\n",
    "\n",
    "    model.add(Dropout(0.2))\n",
    "\n",
    "model.add(Dense(32,activation='relu'))\n",
    "\n",
    "model.add(Dropout(0.2))\n",
    "\n",
    "model.add(Dense(1,activation='sigmoid'))"
   ]
  },
  {
   "cell_type": "code",
   "execution_count": 75,
   "id": "a49f21df",
   "metadata": {},
   "outputs": [
    {
     "name": "stdout",
     "output_type": "stream",
     "text": [
      "{'1', '0'}\n"
     ]
    }
   ],
   "source": [
    "print(set(labels))"
   ]
  },
  {
   "cell_type": "code",
   "execution_count": null,
   "id": "5314fc5b",
   "metadata": {},
   "outputs": [
    {
     "name": "stdout",
     "output_type": "stream",
     "text": [
      "Epoch 1/20\n",
      " 139/1101 [==>...........................] - ETA: 4:47 - loss: 0.6894 - accuracy: 0.7527"
     ]
    }
   ],
   "source": [
    "opt = tf.keras.optimizers.Nadam(learning_rate=0.00001, clipnorm=1.0, \n",
    "                                clipvalue=0.5)\n",
    "model.compile(loss='binary_crossentropy', optimizer=opt, \n",
    "              metrics=['accuracy'])\n",
    "\n",
    "early_stopping_cb = tf.keras.callbacks.EarlyStopping(\n",
    "    monitor=\"accuracy\", patience=5, restore_best_weights=True)\n",
    "\n",
    "num_epochs = 20\n",
    "history = model.fit(train_padded, training_label_seq, epochs=num_epochs, \n",
    "                    validation_data=(validation_padded, validation_label_seq), \n",
    "                    verbose=1)"
   ]
  },
  {
   "cell_type": "code",
   "execution_count": null,
   "id": "677b136b",
   "metadata": {},
   "outputs": [],
   "source": []
  }
 ],
 "metadata": {
  "kernelspec": {
   "display_name": "Python 3 (ipykernel)",
   "language": "python",
   "name": "python3"
  },
  "language_info": {
   "codemirror_mode": {
    "name": "ipython",
    "version": 3
   },
   "file_extension": ".py",
   "mimetype": "text/x-python",
   "name": "python",
   "nbconvert_exporter": "python",
   "pygments_lexer": "ipython3",
   "version": "3.10.1"
  }
 },
 "nbformat": 4,
 "nbformat_minor": 5
}
